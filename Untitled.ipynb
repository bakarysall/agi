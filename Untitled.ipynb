{
 "cells": [
  {
   "cell_type": "code",
   "execution_count": 13,
   "id": "48f98ff1-cf66-4ade-9fd9-65f80103f567",
   "metadata": {},
   "outputs": [],
   "source": [
    "using DataFrames\n",
    "using CSV"
   ]
  },
  {
   "cell_type": "code",
   "execution_count": 14,
   "id": "2d25e4d9-0346-426e-b581-7fb0e14f5ff7",
   "metadata": {},
   "outputs": [],
   "source": [
    "df = CSV.File(\"Crop_recommendation.csv\");"
   ]
  },
  {
   "cell_type": "code",
   "execution_count": 15,
   "id": "079decc9-d9f7-4c6b-a9e2-5cf43732d5bf",
   "metadata": {},
   "outputs": [],
   "source": [
    "using StatsBase"
   ]
  },
  {
   "cell_type": "code",
   "execution_count": 19,
   "id": "49f8c5ce-1b30-416c-aca5-8dc99302e90f",
   "metadata": {},
   "outputs": [
    {
     "data": {
      "text/plain": [
       "5-element Vector{CSV.Row}:\n",
       " CSV.Row: (N = 90, P = 42, K = 43, temperature = 20.87974371, humidity = 82.00274423, ph = 6.502985292000001, rainfall = 202.9355362, label = String15(\"rice\"))\n",
       " CSV.Row: (N = 85, P = 58, K = 41, temperature = 21.77046169, humidity = 80.31964408, ph = 7.038096361, rainfall = 226.6555374, label = String15(\"rice\"))\n",
       " CSV.Row: (N = 60, P = 55, K = 44, temperature = 23.00445915, humidity = 82.3207629, ph = 7.840207144, rainfall = 263.9642476, label = String15(\"rice\"))\n",
       " CSV.Row: (N = 74, P = 35, K = 40, temperature = 26.49109635, humidity = 80.15836264, ph = 6.980400905, rainfall = 242.8640342, label = String15(\"rice\"))\n",
       " CSV.Row: (N = 78, P = 42, K = 42, temperature = 20.13017482, humidity = 81.60487287, ph = 7.628472891, rainfall = 262.7173405, label = String15(\"rice\"))"
      ]
     },
     "execution_count": 19,
     "metadata": {},
     "output_type": "execute_result"
    }
   ],
   "source": [
    "using DataFrames\n",
    "first(df,5)\n"
   ]
  },
  {
   "cell_type": "code",
   "execution_count": 9,
   "id": "88760c58-dfec-451a-b52a-74aab16a4141",
   "metadata": {},
   "outputs": [
    {
     "ename": "LoadError",
     "evalue": "UndefVarError: normalize not defined",
     "output_type": "error",
     "traceback": [
      "UndefVarError: normalize not defined",
      "",
      "Stacktrace:",
      " [1] top-level scope",
      "   @ In[9]:2"
     ]
    }
   ],
   "source": [
    "using DataFrames\n",
    "df.label=normalize(df.label)"
   ]
  },
  {
   "cell_type": "code",
   "execution_count": 20,
   "id": "68413f95-2213-419c-a13f-6c127e40dab3",
   "metadata": {},
   "outputs": [
    {
     "data": {
      "text/plain": [
       "10-element Vector{CSV.Row}:\n",
       " CSV.Row: (N = 103, P = 40, K = 30, temperature = 27.30901814, humidity = 55.196224, ph = 6.3483162570000005, rainfall = 141.48316440000005, label = String15(\"coffee\"))\n",
       " CSV.Row: (N = 118, P = 31, K = 34, temperature = 27.54823036, humidity = 62.88179198, ph = 6.123796057000001, rainfall = 181.4170812, label = String15(\"coffee\"))\n",
       " CSV.Row: (N = 106, P = 21, K = 35, temperature = 25.627355, humidity = 57.04151119, ph = 7.4285236339999985, rainfall = 188.5506536, label = String15(\"coffee\"))\n",
       " CSV.Row: (N = 116, P = 38, K = 34, temperature = 23.29250318, humidity = 50.04557009, ph = 6.020947179, rainfall = 183.468585, label = String15(\"coffee\"))\n",
       " CSV.Row: (N = 97, P = 35, K = 26, temperature = 24.91461008, humidity = 53.74144743, ph = 6.334610249, rainfall = 166.2549307, label = String15(\"coffee\"))\n",
       " CSV.Row: (N = 107, P = 34, K = 32, temperature = 26.77463708, humidity = 66.4132686, ph = 6.78006386, rainfall = 177.7745075, label = String15(\"coffee\"))\n",
       " CSV.Row: (N = 99, P = 15, K = 27, temperature = 27.41711238, humidity = 56.63636248, ph = 6.086922359, rainfall = 127.92461000000002, label = String15(\"coffee\"))\n",
       " CSV.Row: (N = 118, P = 33, K = 30, temperature = 24.13179691, humidity = 67.22512329, ph = 6.362607851, rainfall = 173.32283859999995, label = String15(\"coffee\"))\n",
       " CSV.Row: (N = 117, P = 32, K = 34, temperature = 26.2724184, humidity = 52.12739421, ph = 6.758792552, rainfall = 127.1752928, label = String15(\"coffee\"))\n",
       " CSV.Row: (N = 104, P = 18, K = 30, temperature = 23.60301571, humidity = 60.39647474, ph = 6.779832611000002, rainfall = 140.9370415, label = String15(\"coffee\"))"
      ]
     },
     "execution_count": 20,
     "metadata": {},
     "output_type": "execute_result"
    }
   ],
   "source": [
    "last(df,10)"
   ]
  },
  {
   "cell_type": "code",
   "execution_count": 21,
   "id": "2e6b419b-af55-403a-b751-208cd8a41263",
   "metadata": {},
   "outputs": [
    {
     "name": "stdout",
     "output_type": "stream",
     "text": [
      "Summary Stats:\n",
      "Length:         2200\n",
      "Type:           CSV.Row\n",
      "Number Unique:  2200\n"
     ]
    }
   ],
   "source": [
    "describe(df)"
   ]
  },
  {
   "cell_type": "code",
   "execution_count": 22,
   "id": "42517496-93be-47d4-b48f-5fa7b4724c68",
   "metadata": {},
   "outputs": [
    {
     "data": {
      "text/plain": [
       "2200-element PooledArrays.PooledVector{String15, UInt32, Vector{UInt32}}:\n",
       " \"rice\"\n",
       " \"rice\"\n",
       " \"rice\"\n",
       " \"rice\"\n",
       " \"rice\"\n",
       " \"rice\"\n",
       " \"rice\"\n",
       " \"rice\"\n",
       " \"rice\"\n",
       " \"rice\"\n",
       " \"rice\"\n",
       " \"rice\"\n",
       " \"rice\"\n",
       " ⋮\n",
       " \"coffee\"\n",
       " \"coffee\"\n",
       " \"coffee\"\n",
       " \"coffee\"\n",
       " \"coffee\"\n",
       " \"coffee\"\n",
       " \"coffee\"\n",
       " \"coffee\"\n",
       " \"coffee\"\n",
       " \"coffee\"\n",
       " \"coffee\"\n",
       " \"coffee\""
      ]
     },
     "execution_count": 22,
     "metadata": {},
     "output_type": "execute_result"
    }
   ],
   "source": [
    "df.label"
   ]
  },
  {
   "cell_type": "code",
   "execution_count": 24,
   "id": "8b56f160-0ce3-4910-9fef-1e402ec6c502",
   "metadata": {},
   "outputs": [
    {
     "ename": "LoadError",
     "evalue": "BoundsError: attempt to access 2200-element CSV.File at index [1:2200, [1, 2, 3]]",
     "output_type": "error",
     "traceback": [
      "BoundsError: attempt to access 2200-element CSV.File at index [1:2200, [1, 2, 3]]",
      "",
      "Stacktrace:",
      " [1] throw_boundserror(A::CSV.File, I::Tuple{Base.Slice{Base.OneTo{Int64}}, Vector{Int64}})",
      "   @ Base .\\abstractarray.jl:703",
      " [2] checkbounds",
      "   @ .\\abstractarray.jl:668 [inlined]",
      " [3] _getindex",
      "   @ .\\multidimensional.jl:874 [inlined]",
      " [4] getindex(::CSV.File, ::Function, ::Vector{Int64})",
      "   @ Base .\\abstractarray.jl:1241",
      " [5] top-level scope",
      "   @ In[24]:1"
     ]
    }
   ],
   "source": [
    "x=df[:,[1,2,3]]"
   ]
  },
  {
   "cell_type": "code",
   "execution_count": 1,
   "id": "9a0abe43-0f8f-41f2-8b75-21a4cd560060",
   "metadata": {},
   "outputs": [
    {
     "ename": "LoadError",
     "evalue": "syntax: extra token \"cat\" after end of expression",
     "output_type": "error",
     "traceback": [
      "syntax: extra token \"cat\" after end of expression",
      "",
      "Stacktrace:",
      " [1] top-level scope",
      "   @ In[1]:1"
     ]
    }
   ],
   "source": [
    ":/cat=chat"
   ]
  },
  {
   "cell_type": "code",
   "execution_count": 3,
   "id": "ce820edb-7502-41fb-bc79-3f5419567495",
   "metadata": {},
   "outputs": [
    {
     "ename": "LoadError",
     "evalue": "syntax: extra token \"pairs\" after end of expression",
     "output_type": "error",
     "traceback": [
      "syntax: extra token \"pairs\" after end of expression",
      "",
      "Stacktrace:",
      " [1] top-level scope",
      "   @ In[3]:1"
     ]
    }
   ],
   "source": [
    ":/pairs"
   ]
  }
 ],
 "metadata": {
  "kernelspec": {
   "display_name": "Julia 1.8.5",
   "language": "julia",
   "name": "julia-1.8"
  },
  "language_info": {
   "file_extension": ".jl",
   "mimetype": "application/julia",
   "name": "julia",
   "version": "1.8.5"
  }
 },
 "nbformat": 4,
 "nbformat_minor": 5
}
